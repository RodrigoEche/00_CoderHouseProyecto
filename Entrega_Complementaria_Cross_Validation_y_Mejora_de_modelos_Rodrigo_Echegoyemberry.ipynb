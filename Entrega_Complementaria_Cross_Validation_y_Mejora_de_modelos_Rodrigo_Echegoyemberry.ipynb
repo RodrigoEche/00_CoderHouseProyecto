{
  "cells": [
    {
      "cell_type": "markdown",
      "metadata": {
        "id": "view-in-github",
        "colab_type": "text"
      },
      "source": [
        "<a href=\"https://colab.research.google.com/github/RodrigoEche/00_CoderHouseProyecto/blob/main/Entrega_Complementaria_Cross_Validation_y_Mejora_de_modelos_Rodrigo_Echegoyemberry.ipynb\" target=\"_parent\"><img src=\"https://colab.research.google.com/assets/colab-badge.svg\" alt=\"Open In Colab\"/></a>"
      ]
    },
    {
      "cell_type": "markdown",
      "source": [
        "#***DESAFÍO 15 CROSS VALIDATION Y MEJORA DE MODELOS***"
      ],
      "metadata": {
        "id": "Atox2fxBmJOW"
      }
    },
    {
      "cell_type": "code",
      "execution_count": null,
      "metadata": {
        "id": "i_fXCnVbaJvb"
      },
      "outputs": [],
      "source": [
        "#  -------------------------------------------------------------------------------------------------------------------------------\n",
        "# | CONSIGNAS:                                                                                                                     |\n",
        "# |       1. USAR TRABAJO PREVIO (PARTE 1)\n",
        "# |       2. EVALUAR LOS MODELOS CON DISTINTAS TECNICAS DE CROSS VALIDATION (PARTE 2)                                                           |\n",
        "# |       3. APRENDER VENTAJA DE LA VALIDACION AUTOMATICA VERSUS  LA MANUAL QUE SE VENIA USANDO\n",
        "# |       4. APRENDER EN PARTICULAR LA K-FOLD CROSS VALIDATION\n",
        "# |       5. EVALUAR LOS MODELOS EN CADA CASO                                                                          |\n",
        "# |       6. SACAR CONCLUSIONES\n",
        "# |\n",
        "# |       Consigna:  Video clase 49 en 1h 48 min                                                                                                               |                                                                                     |\n",
        "# |       Ejemplo:   https://www.kaggle.com/code/satishgunjal/tutorial-k-fold-cross-validation                                                                                                                      |\n",
        "#  -------------------------------------------------------------------------------------------------------------------------------"
      ]
    },
    {
      "cell_type": "markdown",
      "source": [
        "#Cargo bibliotecas"
      ],
      "metadata": {
        "id": "JTR3zxurCkKU"
      }
    },
    {
      "cell_type": "code",
      "source": [
        "from sklearn.linear_model import LinearRegression\n",
        "from sklearn.metrics import mean_squared_error, r2_score\n",
        "import pandas as pd\n",
        "import numpy as np"
      ],
      "metadata": {
        "id": "VJAhUHyz0evA"
      },
      "execution_count": 1,
      "outputs": []
    },
    {
      "cell_type": "markdown",
      "source": [
        "#Cargo dataset"
      ],
      "metadata": {
        "id": "qps9XnUICayh"
      }
    },
    {
      "cell_type": "code",
      "source": [
        "archivo = 'https://raw.githubusercontent.com/RodrigoEche/DS_Datasets/main/1%20Sales%20Data%20for%20Economic%20Data%20Analysis/Sales%20Data%20for%20Economic%20Data%20Analysis%20Kaggle/salesforcourse-4fe2kehu.csv'\n",
        "dataset= pd.read_csv( archivo, sep=',')\n",
        "dataset.shape"
      ],
      "metadata": {
        "id": "Y3fXhqnu0Kev",
        "colab": {
          "base_uri": "https://localhost:8080/"
        },
        "outputId": "c7ea5577-c9c1-4a7d-e45e-e27a013edfe3"
      },
      "execution_count": 2,
      "outputs": [
        {
          "output_type": "execute_result",
          "data": {
            "text/plain": [
              "(34867, 16)"
            ]
          },
          "metadata": {},
          "execution_count": 2
        }
      ]
    },
    {
      "cell_type": "code",
      "source": [
        "prueba = dataset[['Unit Cost','Unit Price']]\n",
        "prueba"
      ],
      "metadata": {
        "id": "i5koaaSbkcDi",
        "colab": {
          "base_uri": "https://localhost:8080/",
          "height": 424
        },
        "outputId": "b6a06914-72f5-4867-833f-4d65626eb1c7"
      },
      "execution_count": 3,
      "outputs": [
        {
          "output_type": "execute_result",
          "data": {
            "text/plain": [
              "       Unit Cost   Unit Price\n",
              "0          80.00   109.000000\n",
              "1          24.50    28.500000\n",
              "2           3.67     5.000000\n",
              "3          87.50   116.500000\n",
              "4          35.00    41.666667\n",
              "...          ...          ...\n",
              "34862    1160.00   985.500000\n",
              "34863    2049.00  1583.000000\n",
              "34864     683.00   560.666667\n",
              "34865    2320.00  1568.000000\n",
              "34866        NaN          NaN\n",
              "\n",
              "[34867 rows x 2 columns]"
            ],
            "text/html": [
              "\n",
              "  <div id=\"df-65101fa1-8036-4b7e-9c9a-8dccbb5d5446\" class=\"colab-df-container\">\n",
              "    <div>\n",
              "<style scoped>\n",
              "    .dataframe tbody tr th:only-of-type {\n",
              "        vertical-align: middle;\n",
              "    }\n",
              "\n",
              "    .dataframe tbody tr th {\n",
              "        vertical-align: top;\n",
              "    }\n",
              "\n",
              "    .dataframe thead th {\n",
              "        text-align: right;\n",
              "    }\n",
              "</style>\n",
              "<table border=\"1\" class=\"dataframe\">\n",
              "  <thead>\n",
              "    <tr style=\"text-align: right;\">\n",
              "      <th></th>\n",
              "      <th>Unit Cost</th>\n",
              "      <th>Unit Price</th>\n",
              "    </tr>\n",
              "  </thead>\n",
              "  <tbody>\n",
              "    <tr>\n",
              "      <th>0</th>\n",
              "      <td>80.00</td>\n",
              "      <td>109.000000</td>\n",
              "    </tr>\n",
              "    <tr>\n",
              "      <th>1</th>\n",
              "      <td>24.50</td>\n",
              "      <td>28.500000</td>\n",
              "    </tr>\n",
              "    <tr>\n",
              "      <th>2</th>\n",
              "      <td>3.67</td>\n",
              "      <td>5.000000</td>\n",
              "    </tr>\n",
              "    <tr>\n",
              "      <th>3</th>\n",
              "      <td>87.50</td>\n",
              "      <td>116.500000</td>\n",
              "    </tr>\n",
              "    <tr>\n",
              "      <th>4</th>\n",
              "      <td>35.00</td>\n",
              "      <td>41.666667</td>\n",
              "    </tr>\n",
              "    <tr>\n",
              "      <th>...</th>\n",
              "      <td>...</td>\n",
              "      <td>...</td>\n",
              "    </tr>\n",
              "    <tr>\n",
              "      <th>34862</th>\n",
              "      <td>1160.00</td>\n",
              "      <td>985.500000</td>\n",
              "    </tr>\n",
              "    <tr>\n",
              "      <th>34863</th>\n",
              "      <td>2049.00</td>\n",
              "      <td>1583.000000</td>\n",
              "    </tr>\n",
              "    <tr>\n",
              "      <th>34864</th>\n",
              "      <td>683.00</td>\n",
              "      <td>560.666667</td>\n",
              "    </tr>\n",
              "    <tr>\n",
              "      <th>34865</th>\n",
              "      <td>2320.00</td>\n",
              "      <td>1568.000000</td>\n",
              "    </tr>\n",
              "    <tr>\n",
              "      <th>34866</th>\n",
              "      <td>NaN</td>\n",
              "      <td>NaN</td>\n",
              "    </tr>\n",
              "  </tbody>\n",
              "</table>\n",
              "<p>34867 rows × 2 columns</p>\n",
              "</div>\n",
              "    <div class=\"colab-df-buttons\">\n",
              "\n",
              "  <div class=\"colab-df-container\">\n",
              "    <button class=\"colab-df-convert\" onclick=\"convertToInteractive('df-65101fa1-8036-4b7e-9c9a-8dccbb5d5446')\"\n",
              "            title=\"Convert this dataframe to an interactive table.\"\n",
              "            style=\"display:none;\">\n",
              "\n",
              "  <svg xmlns=\"http://www.w3.org/2000/svg\" height=\"24px\" viewBox=\"0 -960 960 960\">\n",
              "    <path d=\"M120-120v-720h720v720H120Zm60-500h600v-160H180v160Zm220 220h160v-160H400v160Zm0 220h160v-160H400v160ZM180-400h160v-160H180v160Zm440 0h160v-160H620v160ZM180-180h160v-160H180v160Zm440 0h160v-160H620v160Z\"/>\n",
              "  </svg>\n",
              "    </button>\n",
              "\n",
              "  <style>\n",
              "    .colab-df-container {\n",
              "      display:flex;\n",
              "      gap: 12px;\n",
              "    }\n",
              "\n",
              "    .colab-df-convert {\n",
              "      background-color: #E8F0FE;\n",
              "      border: none;\n",
              "      border-radius: 50%;\n",
              "      cursor: pointer;\n",
              "      display: none;\n",
              "      fill: #1967D2;\n",
              "      height: 32px;\n",
              "      padding: 0 0 0 0;\n",
              "      width: 32px;\n",
              "    }\n",
              "\n",
              "    .colab-df-convert:hover {\n",
              "      background-color: #E2EBFA;\n",
              "      box-shadow: 0px 1px 2px rgba(60, 64, 67, 0.3), 0px 1px 3px 1px rgba(60, 64, 67, 0.15);\n",
              "      fill: #174EA6;\n",
              "    }\n",
              "\n",
              "    .colab-df-buttons div {\n",
              "      margin-bottom: 4px;\n",
              "    }\n",
              "\n",
              "    [theme=dark] .colab-df-convert {\n",
              "      background-color: #3B4455;\n",
              "      fill: #D2E3FC;\n",
              "    }\n",
              "\n",
              "    [theme=dark] .colab-df-convert:hover {\n",
              "      background-color: #434B5C;\n",
              "      box-shadow: 0px 1px 3px 1px rgba(0, 0, 0, 0.15);\n",
              "      filter: drop-shadow(0px 1px 2px rgba(0, 0, 0, 0.3));\n",
              "      fill: #FFFFFF;\n",
              "    }\n",
              "  </style>\n",
              "\n",
              "    <script>\n",
              "      const buttonEl =\n",
              "        document.querySelector('#df-65101fa1-8036-4b7e-9c9a-8dccbb5d5446 button.colab-df-convert');\n",
              "      buttonEl.style.display =\n",
              "        google.colab.kernel.accessAllowed ? 'block' : 'none';\n",
              "\n",
              "      async function convertToInteractive(key) {\n",
              "        const element = document.querySelector('#df-65101fa1-8036-4b7e-9c9a-8dccbb5d5446');\n",
              "        const dataTable =\n",
              "          await google.colab.kernel.invokeFunction('convertToInteractive',\n",
              "                                                    [key], {});\n",
              "        if (!dataTable) return;\n",
              "\n",
              "        const docLinkHtml = 'Like what you see? Visit the ' +\n",
              "          '<a target=\"_blank\" href=https://colab.research.google.com/notebooks/data_table.ipynb>data table notebook</a>'\n",
              "          + ' to learn more about interactive tables.';\n",
              "        element.innerHTML = '';\n",
              "        dataTable['output_type'] = 'display_data';\n",
              "        await google.colab.output.renderOutput(dataTable, element);\n",
              "        const docLink = document.createElement('div');\n",
              "        docLink.innerHTML = docLinkHtml;\n",
              "        element.appendChild(docLink);\n",
              "      }\n",
              "    </script>\n",
              "  </div>\n",
              "\n",
              "\n",
              "<div id=\"df-c3e9d462-e116-4ea7-9747-4b53794dea22\">\n",
              "  <button class=\"colab-df-quickchart\" onclick=\"quickchart('df-c3e9d462-e116-4ea7-9747-4b53794dea22')\"\n",
              "            title=\"Suggest charts.\"\n",
              "            style=\"display:none;\">\n",
              "\n",
              "<svg xmlns=\"http://www.w3.org/2000/svg\" height=\"24px\"viewBox=\"0 0 24 24\"\n",
              "     width=\"24px\">\n",
              "    <g>\n",
              "        <path d=\"M19 3H5c-1.1 0-2 .9-2 2v14c0 1.1.9 2 2 2h14c1.1 0 2-.9 2-2V5c0-1.1-.9-2-2-2zM9 17H7v-7h2v7zm4 0h-2V7h2v10zm4 0h-2v-4h2v4z\"/>\n",
              "    </g>\n",
              "</svg>\n",
              "  </button>\n",
              "\n",
              "<style>\n",
              "  .colab-df-quickchart {\n",
              "      --bg-color: #E8F0FE;\n",
              "      --fill-color: #1967D2;\n",
              "      --hover-bg-color: #E2EBFA;\n",
              "      --hover-fill-color: #174EA6;\n",
              "      --disabled-fill-color: #AAA;\n",
              "      --disabled-bg-color: #DDD;\n",
              "  }\n",
              "\n",
              "  [theme=dark] .colab-df-quickchart {\n",
              "      --bg-color: #3B4455;\n",
              "      --fill-color: #D2E3FC;\n",
              "      --hover-bg-color: #434B5C;\n",
              "      --hover-fill-color: #FFFFFF;\n",
              "      --disabled-bg-color: #3B4455;\n",
              "      --disabled-fill-color: #666;\n",
              "  }\n",
              "\n",
              "  .colab-df-quickchart {\n",
              "    background-color: var(--bg-color);\n",
              "    border: none;\n",
              "    border-radius: 50%;\n",
              "    cursor: pointer;\n",
              "    display: none;\n",
              "    fill: var(--fill-color);\n",
              "    height: 32px;\n",
              "    padding: 0;\n",
              "    width: 32px;\n",
              "  }\n",
              "\n",
              "  .colab-df-quickchart:hover {\n",
              "    background-color: var(--hover-bg-color);\n",
              "    box-shadow: 0 1px 2px rgba(60, 64, 67, 0.3), 0 1px 3px 1px rgba(60, 64, 67, 0.15);\n",
              "    fill: var(--button-hover-fill-color);\n",
              "  }\n",
              "\n",
              "  .colab-df-quickchart-complete:disabled,\n",
              "  .colab-df-quickchart-complete:disabled:hover {\n",
              "    background-color: var(--disabled-bg-color);\n",
              "    fill: var(--disabled-fill-color);\n",
              "    box-shadow: none;\n",
              "  }\n",
              "\n",
              "  .colab-df-spinner {\n",
              "    border: 2px solid var(--fill-color);\n",
              "    border-color: transparent;\n",
              "    border-bottom-color: var(--fill-color);\n",
              "    animation:\n",
              "      spin 1s steps(1) infinite;\n",
              "  }\n",
              "\n",
              "  @keyframes spin {\n",
              "    0% {\n",
              "      border-color: transparent;\n",
              "      border-bottom-color: var(--fill-color);\n",
              "      border-left-color: var(--fill-color);\n",
              "    }\n",
              "    20% {\n",
              "      border-color: transparent;\n",
              "      border-left-color: var(--fill-color);\n",
              "      border-top-color: var(--fill-color);\n",
              "    }\n",
              "    30% {\n",
              "      border-color: transparent;\n",
              "      border-left-color: var(--fill-color);\n",
              "      border-top-color: var(--fill-color);\n",
              "      border-right-color: var(--fill-color);\n",
              "    }\n",
              "    40% {\n",
              "      border-color: transparent;\n",
              "      border-right-color: var(--fill-color);\n",
              "      border-top-color: var(--fill-color);\n",
              "    }\n",
              "    60% {\n",
              "      border-color: transparent;\n",
              "      border-right-color: var(--fill-color);\n",
              "    }\n",
              "    80% {\n",
              "      border-color: transparent;\n",
              "      border-right-color: var(--fill-color);\n",
              "      border-bottom-color: var(--fill-color);\n",
              "    }\n",
              "    90% {\n",
              "      border-color: transparent;\n",
              "      border-bottom-color: var(--fill-color);\n",
              "    }\n",
              "  }\n",
              "</style>\n",
              "\n",
              "  <script>\n",
              "    async function quickchart(key) {\n",
              "      const quickchartButtonEl =\n",
              "        document.querySelector('#' + key + ' button');\n",
              "      quickchartButtonEl.disabled = true;  // To prevent multiple clicks.\n",
              "      quickchartButtonEl.classList.add('colab-df-spinner');\n",
              "      try {\n",
              "        const charts = await google.colab.kernel.invokeFunction(\n",
              "            'suggestCharts', [key], {});\n",
              "      } catch (error) {\n",
              "        console.error('Error during call to suggestCharts:', error);\n",
              "      }\n",
              "      quickchartButtonEl.classList.remove('colab-df-spinner');\n",
              "      quickchartButtonEl.classList.add('colab-df-quickchart-complete');\n",
              "    }\n",
              "    (() => {\n",
              "      let quickchartButtonEl =\n",
              "        document.querySelector('#df-c3e9d462-e116-4ea7-9747-4b53794dea22 button');\n",
              "      quickchartButtonEl.style.display =\n",
              "        google.colab.kernel.accessAllowed ? 'block' : 'none';\n",
              "    })();\n",
              "  </script>\n",
              "</div>\n",
              "    </div>\n",
              "  </div>\n"
            ]
          },
          "metadata": {},
          "execution_count": 3
        }
      ]
    },
    {
      "cell_type": "code",
      "source": [
        "list(dataset.columns)"
      ],
      "metadata": {
        "id": "MkdQdPFhOE2L",
        "colab": {
          "base_uri": "https://localhost:8080/"
        },
        "outputId": "f88c75a0-bdea-4714-836b-e4f36d97bdc9"
      },
      "execution_count": 4,
      "outputs": [
        {
          "output_type": "execute_result",
          "data": {
            "text/plain": [
              "['index',\n",
              " 'Date',\n",
              " 'Year',\n",
              " 'Month',\n",
              " 'Customer Age',\n",
              " 'Customer Gender',\n",
              " 'Country',\n",
              " 'State',\n",
              " 'Product Category',\n",
              " 'Sub Category',\n",
              " 'Quantity',\n",
              " 'Unit Cost',\n",
              " 'Unit Price',\n",
              " 'Cost',\n",
              " 'Revenue',\n",
              " 'Column1']"
            ]
          },
          "metadata": {},
          "execution_count": 4
        }
      ]
    },
    {
      "cell_type": "markdown",
      "source": [
        "#Diccionario"
      ],
      "metadata": {
        "id": "jmgwB-wxN--M"
      }
    },
    {
      "cell_type": "markdown",
      "source": [
        "######El dataset corresponde a venta de artículos de ciclismo por internet a diferentes países"
      ],
      "metadata": {
        "id": "_KklHfWGP6I4"
      }
    },
    {
      "cell_type": "markdown",
      "source": [
        "Feature     | Descripción\n",
        "------------|------------\n",
        "'index', |  indice, no es útil\n",
        " 'Date',| fecha, util para graficar pero no es relevante para modelar\n",
        " 'Year',|año, util para el EDA.\n",
        " 'Month',|mes, idem anterior\n",
        " 'Customer Age',| edad del cliente\n",
        " 'Customer Gender',|género del cliente\n",
        " 'Country',|país desde donde se compró\n",
        " 'State',|estado\n",
        " 'Product Category',|categoría del producto\n",
        " 'Sub Category',| subcategoría\n",
        " 'Quantity',| cantidad de artículos comprado en la operación\n",
        " 'Unit Cost',|costo de cada artículo\n",
        " 'Unit Price',| precio de venta de cada artículo\n",
        " 'Cost',|costos totales\n",
        " 'Revenue',|ganancias\n",
        " 'Column1'|columna vacía"
      ],
      "metadata": {
        "id": "3tJHXsNXOUir"
      }
    },
    {
      "cell_type": "markdown",
      "source": [
        "#**PARTE 1: MODELADO CON VALIDACIÓN SIMPLE**"
      ],
      "metadata": {
        "id": "UN4q1fResDIp"
      }
    },
    {
      "cell_type": "markdown",
      "source": [
        "#Elegir modelo de regresión simple o múltiple"
      ],
      "metadata": {
        "id": "zXk6bBa_znf0"
      }
    },
    {
      "cell_type": "code",
      "source": [
        "# el mismo código se usa en regresion simple o múltiple, por eso se debe elegir\n",
        "regresionSimple = 0"
      ],
      "metadata": {
        "id": "s7YVxnYSzwX6"
      },
      "execution_count": 5,
      "outputs": []
    },
    {
      "cell_type": "markdown",
      "source": [
        "#Feature engineering"
      ],
      "metadata": {
        "id": "a4byaiGdA3Cm"
      }
    },
    {
      "cell_type": "markdown",
      "source": [
        "######A diferencia del modelo simple en que solo hay dos columnas la predictora y la objetivo, en la regresion múltiple se usan muchas predictoras por eso requiere un mayor procesamiento a través de la Feature engineering"
      ],
      "metadata": {
        "id": "jqC-ki25K_JM"
      }
    },
    {
      "cell_type": "code",
      "source": [
        "df = dataset.copy()\n",
        "\n",
        "# Borro ultimo renglon con solo NaN\n",
        "df = df.drop(df.index[-1],  axis=0) #elimino ultimo renglon basura lleno de NaN\n",
        "\n",
        "# Acondicionado fechas para usar en gráficas de análisis EDA\n",
        "df['Date'] = pd.to_datetime(df['Date'])\n",
        "\n",
        "# Elimino columnas que no sirven al modelo\n",
        "df= df.drop(columns = ['Column1','Date','index'],axis=1)\n",
        "\n",
        "# Si es regresión simple me quedo solo con dos variables: la explicativa Cost y la objetivo Price\n",
        "if regresionSimple == 1: df= df[['Unit Cost','Unit Price']]\n",
        "\n",
        "print(df.shape)\n",
        "print(df.columns)"
      ],
      "metadata": {
        "colab": {
          "base_uri": "https://localhost:8080/"
        },
        "id": "tKe_SQrRfWnR",
        "outputId": "17c2e5a4-753f-4489-ccab-8de3df63a60b"
      },
      "execution_count": 6,
      "outputs": [
        {
          "output_type": "stream",
          "name": "stdout",
          "text": [
            "(34866, 13)\n",
            "Index(['Year', 'Month', 'Customer Age', 'Customer Gender', 'Country', 'State',\n",
            "       'Product Category', 'Sub Category', 'Quantity', 'Unit Cost',\n",
            "       'Unit Price', 'Cost', 'Revenue'],\n",
            "      dtype='object')\n"
          ]
        }
      ]
    },
    {
      "cell_type": "code",
      "source": [
        "df.info()"
      ],
      "metadata": {
        "colab": {
          "base_uri": "https://localhost:8080/"
        },
        "id": "gprP1TGVmPye",
        "outputId": "06fceb01-4070-472b-a67d-88c8b4bb9697"
      },
      "execution_count": 7,
      "outputs": [
        {
          "output_type": "stream",
          "name": "stdout",
          "text": [
            "<class 'pandas.core.frame.DataFrame'>\n",
            "RangeIndex: 34866 entries, 0 to 34865\n",
            "Data columns (total 13 columns):\n",
            " #   Column            Non-Null Count  Dtype  \n",
            "---  ------            --------------  -----  \n",
            " 0   Year              34866 non-null  float64\n",
            " 1   Month             34866 non-null  object \n",
            " 2   Customer Age      34866 non-null  float64\n",
            " 3   Customer Gender   34866 non-null  object \n",
            " 4   Country           34866 non-null  object \n",
            " 5   State             34866 non-null  object \n",
            " 6   Product Category  34866 non-null  object \n",
            " 7   Sub Category      34866 non-null  object \n",
            " 8   Quantity          34866 non-null  float64\n",
            " 9   Unit Cost         34866 non-null  float64\n",
            " 10  Unit Price        34866 non-null  float64\n",
            " 11  Cost              34866 non-null  float64\n",
            " 12  Revenue           34866 non-null  float64\n",
            "dtypes: float64(7), object(6)\n",
            "memory usage: 3.5+ MB\n"
          ]
        }
      ]
    },
    {
      "cell_type": "code",
      "source": [
        "# Codifico las columnas categóricas como números\n",
        "data = df.copy()\n",
        "categoricas = data.select_dtypes(include=['object'])\n",
        "numericas   = data.select_dtypes(exclude=['object'])\n",
        "\n",
        "# Codifico con get_dummies() las variables categóricas\n",
        "if regresionSimple == 1:\n",
        "  categoricas = pd.DataFrame()\n",
        "else:\n",
        "  categoricas = pd.get_dummies(categoricas)"
      ],
      "metadata": {
        "id": "-nmHr0dLmqOU"
      },
      "execution_count": 8,
      "outputs": []
    },
    {
      "cell_type": "code",
      "source": [
        "# Concateno dataframes de categoricas codificadas y numericas\n",
        "data = pd.concat([numericas, categoricas], axis=1)\n",
        "\n",
        "# Obtengo el df para el modelo luego del data wrangling\n",
        "print(data.shape)\n",
        "#print(data.columns)\n",
        "data.sample(2)"
      ],
      "metadata": {
        "id": "_womk13D4uD2",
        "colab": {
          "base_uri": "https://localhost:8080/",
          "height": 213
        },
        "outputId": "eed7cd94-d2ae-4c93-9de6-a4cdbb6bba16"
      },
      "execution_count": 9,
      "outputs": [
        {
          "output_type": "stream",
          "name": "stdout",
          "text": [
            "(34866, 90)\n"
          ]
        },
        {
          "output_type": "execute_result",
          "data": {
            "text/plain": [
              "         Year  Customer Age  Quantity  Unit Cost  Unit Price   Cost  Revenue  \\\n",
              "10992  2015.0          33.0       2.0       60.0        67.0  120.0    134.0   \n",
              "8258   2015.0          38.0       1.0       57.0        67.0   57.0     67.0   \n",
              "\n",
              "       Month_April  Month_August  Month_December  ...  Sub Category_Helmets  \\\n",
              "10992            0             0               0  ...                     0   \n",
              "8258             0             1               0  ...                     0   \n",
              "\n",
              "       Sub Category_Hydration Packs  Sub Category_Jerseys  \\\n",
              "10992                             0                     0   \n",
              "8258                              0                     0   \n",
              "\n",
              "       Sub Category_Mountain Bikes  Sub Category_Road Bikes  \\\n",
              "10992                            0                        0   \n",
              "8258                             0                        0   \n",
              "\n",
              "       Sub Category_Shorts  Sub Category_Socks  Sub Category_Tires and Tubes  \\\n",
              "10992                    0                   0                             1   \n",
              "8258                     0                   0                             1   \n",
              "\n",
              "       Sub Category_Touring Bikes  Sub Category_Vests  \n",
              "10992                           0                   0  \n",
              "8258                            0                   0  \n",
              "\n",
              "[2 rows x 90 columns]"
            ],
            "text/html": [
              "\n",
              "  <div id=\"df-efbe1e75-1a44-458c-9bad-35ede43844b4\" class=\"colab-df-container\">\n",
              "    <div>\n",
              "<style scoped>\n",
              "    .dataframe tbody tr th:only-of-type {\n",
              "        vertical-align: middle;\n",
              "    }\n",
              "\n",
              "    .dataframe tbody tr th {\n",
              "        vertical-align: top;\n",
              "    }\n",
              "\n",
              "    .dataframe thead th {\n",
              "        text-align: right;\n",
              "    }\n",
              "</style>\n",
              "<table border=\"1\" class=\"dataframe\">\n",
              "  <thead>\n",
              "    <tr style=\"text-align: right;\">\n",
              "      <th></th>\n",
              "      <th>Year</th>\n",
              "      <th>Customer Age</th>\n",
              "      <th>Quantity</th>\n",
              "      <th>Unit Cost</th>\n",
              "      <th>Unit Price</th>\n",
              "      <th>Cost</th>\n",
              "      <th>Revenue</th>\n",
              "      <th>Month_April</th>\n",
              "      <th>Month_August</th>\n",
              "      <th>Month_December</th>\n",
              "      <th>...</th>\n",
              "      <th>Sub Category_Helmets</th>\n",
              "      <th>Sub Category_Hydration Packs</th>\n",
              "      <th>Sub Category_Jerseys</th>\n",
              "      <th>Sub Category_Mountain Bikes</th>\n",
              "      <th>Sub Category_Road Bikes</th>\n",
              "      <th>Sub Category_Shorts</th>\n",
              "      <th>Sub Category_Socks</th>\n",
              "      <th>Sub Category_Tires and Tubes</th>\n",
              "      <th>Sub Category_Touring Bikes</th>\n",
              "      <th>Sub Category_Vests</th>\n",
              "    </tr>\n",
              "  </thead>\n",
              "  <tbody>\n",
              "    <tr>\n",
              "      <th>10992</th>\n",
              "      <td>2015.0</td>\n",
              "      <td>33.0</td>\n",
              "      <td>2.0</td>\n",
              "      <td>60.0</td>\n",
              "      <td>67.0</td>\n",
              "      <td>120.0</td>\n",
              "      <td>134.0</td>\n",
              "      <td>0</td>\n",
              "      <td>0</td>\n",
              "      <td>0</td>\n",
              "      <td>...</td>\n",
              "      <td>0</td>\n",
              "      <td>0</td>\n",
              "      <td>0</td>\n",
              "      <td>0</td>\n",
              "      <td>0</td>\n",
              "      <td>0</td>\n",
              "      <td>0</td>\n",
              "      <td>1</td>\n",
              "      <td>0</td>\n",
              "      <td>0</td>\n",
              "    </tr>\n",
              "    <tr>\n",
              "      <th>8258</th>\n",
              "      <td>2015.0</td>\n",
              "      <td>38.0</td>\n",
              "      <td>1.0</td>\n",
              "      <td>57.0</td>\n",
              "      <td>67.0</td>\n",
              "      <td>57.0</td>\n",
              "      <td>67.0</td>\n",
              "      <td>0</td>\n",
              "      <td>1</td>\n",
              "      <td>0</td>\n",
              "      <td>...</td>\n",
              "      <td>0</td>\n",
              "      <td>0</td>\n",
              "      <td>0</td>\n",
              "      <td>0</td>\n",
              "      <td>0</td>\n",
              "      <td>0</td>\n",
              "      <td>0</td>\n",
              "      <td>1</td>\n",
              "      <td>0</td>\n",
              "      <td>0</td>\n",
              "    </tr>\n",
              "  </tbody>\n",
              "</table>\n",
              "<p>2 rows × 90 columns</p>\n",
              "</div>\n",
              "    <div class=\"colab-df-buttons\">\n",
              "\n",
              "  <div class=\"colab-df-container\">\n",
              "    <button class=\"colab-df-convert\" onclick=\"convertToInteractive('df-efbe1e75-1a44-458c-9bad-35ede43844b4')\"\n",
              "            title=\"Convert this dataframe to an interactive table.\"\n",
              "            style=\"display:none;\">\n",
              "\n",
              "  <svg xmlns=\"http://www.w3.org/2000/svg\" height=\"24px\" viewBox=\"0 -960 960 960\">\n",
              "    <path d=\"M120-120v-720h720v720H120Zm60-500h600v-160H180v160Zm220 220h160v-160H400v160Zm0 220h160v-160H400v160ZM180-400h160v-160H180v160Zm440 0h160v-160H620v160ZM180-180h160v-160H180v160Zm440 0h160v-160H620v160Z\"/>\n",
              "  </svg>\n",
              "    </button>\n",
              "\n",
              "  <style>\n",
              "    .colab-df-container {\n",
              "      display:flex;\n",
              "      gap: 12px;\n",
              "    }\n",
              "\n",
              "    .colab-df-convert {\n",
              "      background-color: #E8F0FE;\n",
              "      border: none;\n",
              "      border-radius: 50%;\n",
              "      cursor: pointer;\n",
              "      display: none;\n",
              "      fill: #1967D2;\n",
              "      height: 32px;\n",
              "      padding: 0 0 0 0;\n",
              "      width: 32px;\n",
              "    }\n",
              "\n",
              "    .colab-df-convert:hover {\n",
              "      background-color: #E2EBFA;\n",
              "      box-shadow: 0px 1px 2px rgba(60, 64, 67, 0.3), 0px 1px 3px 1px rgba(60, 64, 67, 0.15);\n",
              "      fill: #174EA6;\n",
              "    }\n",
              "\n",
              "    .colab-df-buttons div {\n",
              "      margin-bottom: 4px;\n",
              "    }\n",
              "\n",
              "    [theme=dark] .colab-df-convert {\n",
              "      background-color: #3B4455;\n",
              "      fill: #D2E3FC;\n",
              "    }\n",
              "\n",
              "    [theme=dark] .colab-df-convert:hover {\n",
              "      background-color: #434B5C;\n",
              "      box-shadow: 0px 1px 3px 1px rgba(0, 0, 0, 0.15);\n",
              "      filter: drop-shadow(0px 1px 2px rgba(0, 0, 0, 0.3));\n",
              "      fill: #FFFFFF;\n",
              "    }\n",
              "  </style>\n",
              "\n",
              "    <script>\n",
              "      const buttonEl =\n",
              "        document.querySelector('#df-efbe1e75-1a44-458c-9bad-35ede43844b4 button.colab-df-convert');\n",
              "      buttonEl.style.display =\n",
              "        google.colab.kernel.accessAllowed ? 'block' : 'none';\n",
              "\n",
              "      async function convertToInteractive(key) {\n",
              "        const element = document.querySelector('#df-efbe1e75-1a44-458c-9bad-35ede43844b4');\n",
              "        const dataTable =\n",
              "          await google.colab.kernel.invokeFunction('convertToInteractive',\n",
              "                                                    [key], {});\n",
              "        if (!dataTable) return;\n",
              "\n",
              "        const docLinkHtml = 'Like what you see? Visit the ' +\n",
              "          '<a target=\"_blank\" href=https://colab.research.google.com/notebooks/data_table.ipynb>data table notebook</a>'\n",
              "          + ' to learn more about interactive tables.';\n",
              "        element.innerHTML = '';\n",
              "        dataTable['output_type'] = 'display_data';\n",
              "        await google.colab.output.renderOutput(dataTable, element);\n",
              "        const docLink = document.createElement('div');\n",
              "        docLink.innerHTML = docLinkHtml;\n",
              "        element.appendChild(docLink);\n",
              "      }\n",
              "    </script>\n",
              "  </div>\n",
              "\n",
              "\n",
              "<div id=\"df-61982b0d-f0bc-4cb1-9979-5d3ef84b00c3\">\n",
              "  <button class=\"colab-df-quickchart\" onclick=\"quickchart('df-61982b0d-f0bc-4cb1-9979-5d3ef84b00c3')\"\n",
              "            title=\"Suggest charts.\"\n",
              "            style=\"display:none;\">\n",
              "\n",
              "<svg xmlns=\"http://www.w3.org/2000/svg\" height=\"24px\"viewBox=\"0 0 24 24\"\n",
              "     width=\"24px\">\n",
              "    <g>\n",
              "        <path d=\"M19 3H5c-1.1 0-2 .9-2 2v14c0 1.1.9 2 2 2h14c1.1 0 2-.9 2-2V5c0-1.1-.9-2-2-2zM9 17H7v-7h2v7zm4 0h-2V7h2v10zm4 0h-2v-4h2v4z\"/>\n",
              "    </g>\n",
              "</svg>\n",
              "  </button>\n",
              "\n",
              "<style>\n",
              "  .colab-df-quickchart {\n",
              "      --bg-color: #E8F0FE;\n",
              "      --fill-color: #1967D2;\n",
              "      --hover-bg-color: #E2EBFA;\n",
              "      --hover-fill-color: #174EA6;\n",
              "      --disabled-fill-color: #AAA;\n",
              "      --disabled-bg-color: #DDD;\n",
              "  }\n",
              "\n",
              "  [theme=dark] .colab-df-quickchart {\n",
              "      --bg-color: #3B4455;\n",
              "      --fill-color: #D2E3FC;\n",
              "      --hover-bg-color: #434B5C;\n",
              "      --hover-fill-color: #FFFFFF;\n",
              "      --disabled-bg-color: #3B4455;\n",
              "      --disabled-fill-color: #666;\n",
              "  }\n",
              "\n",
              "  .colab-df-quickchart {\n",
              "    background-color: var(--bg-color);\n",
              "    border: none;\n",
              "    border-radius: 50%;\n",
              "    cursor: pointer;\n",
              "    display: none;\n",
              "    fill: var(--fill-color);\n",
              "    height: 32px;\n",
              "    padding: 0;\n",
              "    width: 32px;\n",
              "  }\n",
              "\n",
              "  .colab-df-quickchart:hover {\n",
              "    background-color: var(--hover-bg-color);\n",
              "    box-shadow: 0 1px 2px rgba(60, 64, 67, 0.3), 0 1px 3px 1px rgba(60, 64, 67, 0.15);\n",
              "    fill: var(--button-hover-fill-color);\n",
              "  }\n",
              "\n",
              "  .colab-df-quickchart-complete:disabled,\n",
              "  .colab-df-quickchart-complete:disabled:hover {\n",
              "    background-color: var(--disabled-bg-color);\n",
              "    fill: var(--disabled-fill-color);\n",
              "    box-shadow: none;\n",
              "  }\n",
              "\n",
              "  .colab-df-spinner {\n",
              "    border: 2px solid var(--fill-color);\n",
              "    border-color: transparent;\n",
              "    border-bottom-color: var(--fill-color);\n",
              "    animation:\n",
              "      spin 1s steps(1) infinite;\n",
              "  }\n",
              "\n",
              "  @keyframes spin {\n",
              "    0% {\n",
              "      border-color: transparent;\n",
              "      border-bottom-color: var(--fill-color);\n",
              "      border-left-color: var(--fill-color);\n",
              "    }\n",
              "    20% {\n",
              "      border-color: transparent;\n",
              "      border-left-color: var(--fill-color);\n",
              "      border-top-color: var(--fill-color);\n",
              "    }\n",
              "    30% {\n",
              "      border-color: transparent;\n",
              "      border-left-color: var(--fill-color);\n",
              "      border-top-color: var(--fill-color);\n",
              "      border-right-color: var(--fill-color);\n",
              "    }\n",
              "    40% {\n",
              "      border-color: transparent;\n",
              "      border-right-color: var(--fill-color);\n",
              "      border-top-color: var(--fill-color);\n",
              "    }\n",
              "    60% {\n",
              "      border-color: transparent;\n",
              "      border-right-color: var(--fill-color);\n",
              "    }\n",
              "    80% {\n",
              "      border-color: transparent;\n",
              "      border-right-color: var(--fill-color);\n",
              "      border-bottom-color: var(--fill-color);\n",
              "    }\n",
              "    90% {\n",
              "      border-color: transparent;\n",
              "      border-bottom-color: var(--fill-color);\n",
              "    }\n",
              "  }\n",
              "</style>\n",
              "\n",
              "  <script>\n",
              "    async function quickchart(key) {\n",
              "      const quickchartButtonEl =\n",
              "        document.querySelector('#' + key + ' button');\n",
              "      quickchartButtonEl.disabled = true;  // To prevent multiple clicks.\n",
              "      quickchartButtonEl.classList.add('colab-df-spinner');\n",
              "      try {\n",
              "        const charts = await google.colab.kernel.invokeFunction(\n",
              "            'suggestCharts', [key], {});\n",
              "      } catch (error) {\n",
              "        console.error('Error during call to suggestCharts:', error);\n",
              "      }\n",
              "      quickchartButtonEl.classList.remove('colab-df-spinner');\n",
              "      quickchartButtonEl.classList.add('colab-df-quickchart-complete');\n",
              "    }\n",
              "    (() => {\n",
              "      let quickchartButtonEl =\n",
              "        document.querySelector('#df-61982b0d-f0bc-4cb1-9979-5d3ef84b00c3 button');\n",
              "      quickchartButtonEl.style.display =\n",
              "        google.colab.kernel.accessAllowed ? 'block' : 'none';\n",
              "    })();\n",
              "  </script>\n",
              "</div>\n",
              "    </div>\n",
              "  </div>\n"
            ]
          },
          "metadata": {},
          "execution_count": 9
        }
      ]
    },
    {
      "cell_type": "markdown",
      "source": [
        "# Modelado del problema de negocio"
      ],
      "metadata": {
        "id": "yc4wV1nQ00vS"
      }
    },
    {
      "cell_type": "markdown",
      "source": [
        "### El problema de negocio por tener el Precio como objetivo a predecir es un modelo supervisado, con el Precio como variable objetivo, target o label y con variables predictoras las restantes por lo que asi planteado es una Regresion múltiple o simple en caso de elegir solo una variable explicativa.\n"
      ],
      "metadata": {
        "id": "mR8ICyQpC3Mw"
      }
    },
    {
      "cell_type": "markdown",
      "source": [
        "## Regresión lineal simple (saltear celda si se eligió regresión múltiple)"
      ],
      "metadata": {
        "id": "y732na-EQb3U"
      }
    },
    {
      "cell_type": "code",
      "source": [
        "# X: variables independientes, explicativas o predictoras.\n",
        "# y: variable  dependiente, objetivo o target.\n",
        "Xsimple = data['Unit Cost']   #.drop(columns = ['Unit Price'])\n",
        "ysimple = data['Unit Price']"
      ],
      "metadata": {
        "id": "kAxCCEARQm5c"
      },
      "execution_count": null,
      "outputs": []
    },
    {
      "cell_type": "code",
      "source": [
        "# Separo el conjunto en datos para Train y para Test\n",
        "from sklearn.model_selection import train_test_split\n",
        "X_train, X_test, y_train, y_test = train_test_split(Xsimple, ysimple, test_size=0.33, random_state=42)\n",
        "\n",
        "# Elijo, selecciono, creo o instancio el modelo de regresión lineal\n",
        "simple = LinearRegression()\n",
        "\n",
        "# Ajusto o entreno el modelo\n",
        "# mostrándole y_train correspondiente a cada X_train\n",
        "simple.fit(X_train, y_train)\n",
        "\n",
        "# Calculo predicciones con el modelo ya entrenado y con las X de test\n",
        "y_pred = simple.predict(X_test)\n",
        "\n",
        "# Evalúo el modelo comparando su predicción \"y_pred\" con lo que debería ser \"y_test\"\n",
        "# uso dos métricas aplicables en regresión: error cuadrático medio y R^2\n",
        "mse = mean_squared_error(y_test, y_pred)\n",
        "r2 = r2_score(y_test, y_pred)\n",
        "_score = simple.score(Xsimple,ysimple)\n",
        "\n",
        "# Imprimo\n",
        "print(f'Error Cuadrático Medio (MSE): {mse.round(3)}')\n",
        "print(f'Coeficiente de Determinación (R^2): {r2.round(3)}')\n",
        "print(f'Score del modelo: {_score.round(3)}')\n",
        "print(f'Modelo con {Xsimple.shape[1]} feature.')"
      ],
      "metadata": {
        "id": "iUy5EqPRQnD6"
      },
      "execution_count": null,
      "outputs": []
    },
    {
      "cell_type": "markdown",
      "source": [
        "## Regresión lineal múltiple"
      ],
      "metadata": {
        "id": "wbl6qrAQPznN"
      }
    },
    {
      "cell_type": "code",
      "source": [
        "# X: variables independientes, explicativas o predictoras.\n",
        "# y: variable  dependiente, objetivo o target.\n",
        "X = data.drop(columns = ['Unit Price'])   # todas menos 'Unit Price'\n",
        "y = data['Unit Price']                    # Variable a predecir"
      ],
      "metadata": {
        "id": "rp0FZnYc06MP"
      },
      "execution_count": 11,
      "outputs": []
    },
    {
      "cell_type": "markdown",
      "source": [
        "## En validación simple separo en un lote grande de entrenamiento y un lote más chico de validación"
      ],
      "metadata": {
        "id": "gztDmCXWY2lV"
      }
    },
    {
      "cell_type": "code",
      "source": [
        "# Separo el conjunto en datos para Train y para Test\n",
        "from sklearn.model_selection import train_test_split\n",
        "X_train, X_test, y_train, y_test = train_test_split(X, y, test_size=0.33, random_state=42)\n",
        "\n",
        "# Elijo, selecciono, creo o instancio el modelo de regresión lineal\n",
        "modelo = LinearRegression()\n",
        "\n",
        "# Ajusto o entreno el modelo\n",
        "# mostrándole y_train correspondiente a cada X_train\n",
        "modelo.fit(X_train, y_train)\n",
        "\n",
        "# Calculo predicciones con el modelo ya entrenado y con las X de test\n",
        "y_pred = modelo.predict(X_test)\n",
        "\n",
        "# Evalúo el modelo comparando su predicción \"y_pred\" con lo que debería ser \"y_test\"\n",
        "# uso dos métricas aplicables en regresión: error cuadrático medio y R^2\n",
        "mse = mean_squared_error(y_test, y_pred)\n",
        "r2 = r2_score(y_test, y_pred)\n",
        "_score = modelo.score(X,y)\n",
        "\n",
        "# Imprimo\n",
        "print(f'Error Cuadrático Medio (MSE): {mse.round(3)}')\n",
        "print(f'Coeficiente de Determinación (R^2): {r2.round(3)}')\n",
        "print(f'Score del modelo: {_score.round(3)}')\n",
        "print(f'Modelo con {X_train.shape[1]} features.')"
      ],
      "metadata": {
        "colab": {
          "base_uri": "https://localhost:8080/"
        },
        "id": "uhz-mhmnzoX3",
        "outputId": "9fdeff59-2804-44aa-d9c6-97c04e10e80f"
      },
      "execution_count": 13,
      "outputs": [
        {
          "output_type": "stream",
          "name": "stdout",
          "text": [
            "Error Cuadrático Medio (MSE): 1785.893\n",
            "Coeficiente de Determinación (R^2): 0.994\n",
            "Score del modelo: 0.993\n",
            "Modelo con 89 features.\n"
          ]
        }
      ]
    },
    {
      "cell_type": "markdown",
      "source": [
        "######Las métricas de la regresión simple donde uso una sola variable explicativa dió: MSE = 10082.17, R2 = 0.963 y Score = 0.962 con una relación train/test de 0.33. En la regresión múltiple el MSE = 1785.8, R2 = 0.994 y Score = 0.993. Son diferencias importantes que indican que el modelo de regresión múltiple predice mejor que el de regresión simple, dado que su error MSE es mucho menor y tanto el R2 y score son mayores y cercanos a 1 lo que indicaria que ese modelo tiene mayor capacidad para explicar la variabilidad de los datos."
      ],
      "metadata": {
        "id": "6DhnrJ_5gVuK"
      }
    },
    {
      "cell_type": "markdown",
      "source": [
        "######**Modelo de regresión simple**\n",
        "Error Cuadrático Medio (MSE): 10082.17\n",
        "Coeficiente de Determinación (R^2): 0.963\n",
        "Score del modelo: 0.962\n"
      ],
      "metadata": {
        "id": "JfDfT5n7cIzB"
      }
    },
    {
      "cell_type": "markdown",
      "source": [
        "######**Modelo de regresión múltiple**\n",
        "Error Cuadrático Medio (MSE): 1785.8 Coeficiente de Determinación (R^2): 0.994 Score del modelo: 0.993"
      ],
      "metadata": {
        "id": "wbYNfF20csVz"
      }
    },
    {
      "cell_type": "markdown",
      "source": [
        "#Regresión múltiple con PCA"
      ],
      "metadata": {
        "id": "XWiAnY497ZWR"
      }
    },
    {
      "cell_type": "code",
      "source": [
        "from sklearn.decomposition import PCA\n",
        "\n",
        "# Instancio PCA\n",
        "n_components = 1  # Número de componentes principales deseado\n",
        "pca = PCA(n_components=n_components)\n",
        "\n",
        "# Ajusto y transformo los datos de entrenamiento y test\n",
        "X_train_pca = pca.fit_transform(X_train)\n",
        "X_test_pca = pca.transform(X_test)\n",
        "\n",
        "# Entreno el modelo con los datos transformados por pca\n",
        "modelo_pca = LinearRegression()\n",
        "modelo_pca.fit(X_train_pca, y_train)\n",
        "\n",
        "# Evalúo el modelo\n",
        "y_pred_pca = modelo_pca.predict(X_test_pca)\n",
        "mse_pca = mean_squared_error(y_test, y_pred_pca)\n",
        "r2_pca = r2_score(y_test, y_pred_pca)\n",
        "_score_pca = modelo_pca.score(X_test_pca, y_test)\n",
        "\n",
        "# Imprimo\n",
        "print(f'Error Cuadrático Medio (MSE): {mse_pca.round(3)}')\n",
        "print(f'Coeficiente de Determinación (R^2): {r2_pca.round(3)}')\n",
        "print(f'Score del modelo: {_score_pca.round(3)}')\n",
        "print(f'Modelo con {X_train_pca.shape[1]} features.')\n"
      ],
      "metadata": {
        "colab": {
          "base_uri": "https://localhost:8080/"
        },
        "id": "P759X6AY7b6X",
        "outputId": "314a866a-c805-4a73-bc41-6d458c7ef819"
      },
      "execution_count": 33,
      "outputs": [
        {
          "output_type": "stream",
          "name": "stdout",
          "text": [
            "Error Cuadrático Medio (MSE): 57152.347\n",
            "Coeficiente de Determinación (R^2): 0.793\n",
            "Score del modelo: 0.793\n",
            "Modelo con 1 features.\n"
          ]
        }
      ]
    },
    {
      "cell_type": "markdown",
      "source": [
        "######Las métricas de la regresión multiple con un total de 89 features había dado MSE = 1785.8, R2 = 0.994 y Score = 0.993 luego de aplicar la reducción dimensional a 3 componentes usando PCA los valores de este nuevo modelo son: MSE = 1836.17, R2 = 0.993 y Score = 0.993 con una relación train/test de 0.33. Como puede observarse los valores son muy similares en ambos modelos, por lo que tendrían la misma capacidad predictiva, sin embargo el modelo luego de aplicar PCA y generar tres componentes artificiales como reemplazo de las 89 features del modelo sin PCA, generaría una importante reducción de las dimensiones (89 a 3) con la enorme ventaja de la velocidad y eficiencia que podría manifestarse si el dataset tuviera no miles sino millones de observaciones y no cien sino miles de dimensiones. Y ello sin desmedro de la capacidad predictiva."
      ],
      "metadata": {
        "id": "yoryAL8q-I1z"
      }
    },
    {
      "cell_type": "markdown",
      "source": [
        "######Para degradar un poco los resultados usaré menos componentes en el PCA a efectos de probar si con menos componentes pero usando validación cruzada es posible compensar la perdida de performance del modelo."
      ],
      "metadata": {
        "id": "w5CGw5BtaX1q"
      }
    },
    {
      "cell_type": "markdown",
      "source": [
        "######**Modelo PCA con 3 features:**\n",
        "Error Cuadrático Medio (MSE): 1836.187\n",
        "Coeficiente de Determinación (R^2): 0.993\n",
        "Score del modelo: 0.993\n"
      ],
      "metadata": {
        "id": "XQ-LnMeAa52a"
      }
    },
    {
      "cell_type": "markdown",
      "source": [
        "######**Modelo PCA con 2 features:**\n",
        "Error Cuadrático Medio (MSE): 11714.41\n",
        "Coeficiente de Determinación (R^2): 0.958\n",
        "Score del modelo: 0.958"
      ],
      "metadata": {
        "id": "KJSPWLGabRzS"
      }
    },
    {
      "cell_type": "markdown",
      "source": [
        "######**Modelo PCA con 1 feature:**\n",
        "Error Cuadrático Medio (MSE): 57152.347\n",
        "Coeficiente de Determinación (R^2): 0.793\n",
        "Score del modelo: 0.793"
      ],
      "metadata": {
        "id": "PTxiln7Lbkz6"
      }
    },
    {
      "cell_type": "markdown",
      "source": [
        "#Regresión múltiple con Feature selection (no usaré este método en este desafío complementario)"
      ],
      "metadata": {
        "id": "YCCY-hbXAu_k"
      }
    },
    {
      "cell_type": "code",
      "source": [
        "# Entreno un arbol de decisión con el objetivo que elija las características de mayor importancia\n",
        "from sklearn.tree import DecisionTreeRegressor\n",
        "arbol = DecisionTreeRegressor()\n",
        "arbol.fit(X_train, y_train)\n",
        "\n",
        "# Selecciono  características cuya importancia supera la mediana\n",
        "from sklearn.feature_selection import SelectFromModel\n",
        "selector = SelectFromModel(arbol, threshold='median')\n",
        "selector.fit(X_train, y_train)\n",
        "\n",
        "# Transformo los datos de entrenamiento y prueba quedando las características seleccionadas\n",
        "X_train_selecionadas = selector.transform(X_train)\n",
        "X_test_selecionadas = selector.transform(X_test)\n",
        "\n",
        "# Entreno el modelo con las características seleccionadas según árbol\n",
        "modelo_selecionadas = LinearRegression()\n",
        "modelo_selecionadas.fit(X_train_selecionadas, y_train)\n",
        "\n",
        "# Evalúo el modelo\n",
        "y_pred_selected = modelo_selecionadas.predict(X_test_selecionadas)\n",
        "mse_selected = mean_squared_error(y_test, y_pred_selected)\n",
        "r2_selected = r2_score(y_test, y_pred_selected)\n",
        "_score_selected = modelo_selecionadas.score(X_test_selecionadas, y_test)\n",
        "\n",
        "# Imprimo\n",
        "print(f'Error Cuadrático Medio (MSE): {mse_selected.round(3)}')\n",
        "print(f'Coeficiente de Determinación (R^2): {r2_selected.round(3)}')\n",
        "print(f'Score del modelo: {_score_selected.round(3)}')\n",
        "print(f'Modelo con {X_train_selecionadas.shape[1]} features.')\n"
      ],
      "metadata": {
        "colab": {
          "base_uri": "https://localhost:8080/"
        },
        "id": "tUCiLrbTAyAM",
        "outputId": "6f131746-69d4-4796-dd55-dc853a7e41e5"
      },
      "execution_count": 32,
      "outputs": [
        {
          "output_type": "stream",
          "name": "stdout",
          "text": [
            "Error Cuadrático Medio (MSE): 1783.091\n",
            "Coeficiente de Determinación (R^2): 0.994\n",
            "Score del modelo: 0.994\n",
            "Modelo con 45 features.\n"
          ]
        }
      ]
    },
    {
      "cell_type": "markdown",
      "source": [
        "######Las métricas de la regresión multiple con un total de 89 features había dado MSE = 1785.8, R2 = 0.994 y Score = 0.993 luego de aplicar la reducción dimensional a 3 componentes usando PCA los valores de este nuevo modelo son: MSE = 1836.17, R2 = 0.993 y Score = 0.993 con una relación train/test de 0.33 y usando Feature Selection en lugar de PCA, es decir usando un algoritmo que elije mas que generar nuevas caracteristicas, los valores son MSE = 1783.02, R2 = 0.994 y Score = 0.994. Como puede observarse los valores son muy similares en los tres modelos, en realidad mejores en el feature selection pero seleccionó 45 características entre las 89, donde el PCA habia gennerado solo  tres características artificiales y con buenas o similares métricas por lo que tendrían la misma capacidad predictiva, sin embargo el modelo luego de aplicar PCA y generar tres componentes artificiales como reemplazo de las 89 features del modelo sin PCA, generaría una importante reducción de las dimensiones (89 a 3)."
      ],
      "metadata": {
        "id": "EIRcSp4nBRPb"
      }
    },
    {
      "cell_type": "markdown",
      "source": [
        "#CONCLUSIONES PCA Y FEATURE SELECTION EN REGRESIÓN LINEAL"
      ],
      "metadata": {
        "id": "x4rokoBPLUt6"
      }
    },
    {
      "cell_type": "markdown",
      "source": [
        "######Se probaron cuatro modelos: regresión simple (1 caracteristica), regresión múltiple con codificación vía get_dummies (89 características) y regresión múltiple aplicando antes PCA (solo 3 características) y regresión múltiple aplicando antes Feature Selection (eligió 45 características). En cuanto a la evaluación de MSE, R2 y _score resultaron mejores en este orden: Selection, PCA, Multidimensional y por último Simple. Sin embargo es de destacar que la PCA podría ser la mejor opción para un dataset mucho mas grande que el presentado aquí, con millones de observaciones y miles de columnas originales."
      ],
      "metadata": {
        "id": "PfH7YPYqCcLt"
      }
    },
    {
      "cell_type": "markdown",
      "source": [
        "#**PARTE 2. MEJORAS DEL MODELO CON VALIDACIÓN CRUZADA K-FOLD**"
      ],
      "metadata": {
        "id": "PtLfwwRXtZRK"
      }
    },
    {
      "cell_type": "markdown",
      "source": [
        "#### Elijo uno de los modelos anteriores (en mi caso el problema es Regresion múltiple), por ejemplo el modelo correspondiente a PCA con 1 componente principal (para quedarme con el de peor resultado e intentaré mejorarlo con las técnicas que siguen), buscaré sus mejores hiper parámetros con GridSearchCV, teniendo ese nuevo modelo \"mejor_modelo\" lo entrenaré y evaluaré. Pero para entrenar puedo usar un split manual del dataset como veniamos haciendo (validacion simple) o un k-Split (Validación cruzada). Luego entreno con esos datos divididos en Train/Test según uno de esos métodos y evalúo si el desempeño del modelo mejoró."
      ],
      "metadata": {
        "id": "iPQ5K10TtsxR"
      }
    },
    {
      "cell_type": "code",
      "source": [
        "# TENGO UN PROBLEMA DE REGRESIÓN LINEAL MÚLTIPLE\n",
        "\n",
        "X = data.drop(columns = ['Unit Price'])   # todas menos 'Unit Price'\n",
        "y = data['Unit Price']                    # Variable a predecir\n",
        "\n",
        "#HAGO UNA VALIDACIÓN SIMPLE DIVIDIENDO EL DATASET EN TRAIN 70% / TEST 30%\n",
        "\n",
        "# Separo el conjunto en datos para Train y para Test\n",
        "from sklearn.model_selection import train_test_split\n",
        "X_train, X_test, y_train, y_test = train_test_split(X, y, test_size=0.98, random_state=42)\n",
        "\n",
        "# Elijo, selecciono, creo o instancio el modelo de regresión lineal\n",
        "modelo = LinearRegression()\n",
        "\n",
        "# Ajusto o entreno el modelo\n",
        "# mostrándole y_train correspondiente a cada X_train\n",
        "modelo.fit(X_train, y_train)\n",
        "\n",
        "# Calculo predicciones con el modelo ya entrenado y con las X de test\n",
        "y_pred = modelo.predict(X_test)\n",
        "\n",
        "# Evalúo el modelo comparando su predicción \"y_pred\" con lo que debería ser \"y_test\"\n",
        "# uso dos métricas aplicables en regresión: error cuadrático medio y R^2\n",
        "mse = mean_squared_error(y_test, y_pred)\n",
        "r2 = r2_score(y_test, y_pred)\n",
        "_score = modelo.score(X,y)\n",
        "\n",
        "# Imprimo\n",
        "print(f'Error Cuadrático Medio (MSE): {mse.round(3)}')\n",
        "print(f'Coeficiente de Determinación (R^2): {r2.round(3)}')\n",
        "print(f'Score del modelo: {_score.round(3)}')\n",
        "print(f'Modelo sin pca ni selección de características con {X_train.shape[1]} features.')\n",
        "\n",
        "#SIGO HACIENDO UNA VALIDACIÓN SIMPLE USANDO UNA DIVISION 70/30 TRAIN/TEST\n",
        "#PERO ANTES AL DATASET LO REDUZCO DIMENSIONALMENTE CREANDO CARACTERISTICAS PRINCIPALES ARTIFICIALES\n",
        "#CON LA TÉCNICA DE PCA USANDO INTENCIONALMENTE SOLO 1 CARACTERISTICA PRINCIPAL\n",
        "from sklearn.decomposition import PCA\n",
        "\n",
        "# Instancio PCA\n",
        "n_components = 1  # Número de componentes principales deseado\n",
        "pca = PCA(n_components=n_components)\n",
        "\n",
        "# Ajusto y transformo los datos de entrenamiento y test\n",
        "X_train_pca = pca.fit_transform(X_train)\n",
        "X_test_pca = pca.transform(X_test)\n",
        "\n",
        "# Entreno el modelo con los datos transformados por pca\n",
        "modelo_pca = LinearRegression()\n",
        "modelo_pca.fit(X_train_pca, y_train)\n",
        "\n",
        "# Evalúo el modelo\n",
        "y_pred_pca = modelo_pca.predict(X_test_pca)\n",
        "mse_pca = mean_squared_error(y_test, y_pred_pca)\n",
        "r2_pca = r2_score(y_test, y_pred_pca)\n",
        "_score_pca = modelo_pca.score(X_test_pca, y_test)\n",
        "\n",
        "# Imprimo\n",
        "print('')\n",
        "print(f'Error Cuadrático Medio (MSE): {mse_pca.round(3)}')\n",
        "print(f'Coeficiente de Determinación (R^2): {r2_pca.round(3)}')\n",
        "print(f'Score del modelo: {_score_pca.round(3)}')\n",
        "print(f'Modelo con pca {X_train_pca.shape[1]} features.')"
      ],
      "metadata": {
        "colab": {
          "base_uri": "https://localhost:8080/"
        },
        "id": "tMuHM1OIfKa8",
        "outputId": "c48e9a76-16ea-49ff-c278-4145eb6198e8"
      },
      "execution_count": 66,
      "outputs": [
        {
          "output_type": "stream",
          "name": "stdout",
          "text": [
            "Error Cuadrático Medio (MSE): 2018.101\n",
            "Coeficiente de Determinación (R^2): 0.993\n",
            "Score del modelo: 0.993\n",
            "Modelo sin pca ni selección de características con 89 features.\n",
            "\n",
            "Error Cuadrático Medio (MSE): 58358.86\n",
            "Coeficiente de Determinación (R^2): 0.789\n",
            "Score del modelo: 0.789\n",
            "Modelo con pca 1 features.\n"
          ]
        }
      ]
    },
    {
      "cell_type": "code",
      "source": [
        "#AHORA QUIERO USAR EL MODELO CON ESE DATASET REDUCIDO POR PCA PERO HACERLE UNA\n",
        "#VALIDACIÓN CRUZADA CON K-FOLD CROSS VALIDATION CON K=5 Y K=10 Y EN AMBOS CASOS\n",
        "#OBTENER LAS MISMAS METRICAS QUE ANTES PARA COMPARAR:\n",
        "\n",
        "from sklearn.model_selection import cross_val_score\n",
        "\n",
        "modelo_cross = modelo_pca\n",
        "\n",
        "# Validación cruzada con K = 5 = kinf\n",
        "kinf = 3\n",
        "scores_5_fold = cross_val_score(modelo_cross, X_train_pca, y_train, cv=kinf, scoring='neg_mean_squared_error')\n",
        "mse_cv_5_fold = -scores_5_fold.mean()  # La media de los errores cuadráticos medios negativos\n",
        "\n",
        "# Validación cruzada con K = 10 = ksup\n",
        "ksup = 10\n",
        "scores_10_fold = cross_val_score(modelo_cross, X_train_pca, y_train, cv=ksup, scoring='neg_mean_squared_error')\n",
        "mse_cv_10_fold = -scores_10_fold.mean()  # La media de los errores cuadráticos medios negativos\n",
        "\n",
        "# Calcular R^2 y Score con PCA\n",
        "r2_cv_5_fold = cross_val_score(modelo_cross, X_train_pca, y_train, cv=kinf, scoring='r2').mean()\n",
        "score_cv_5_fold = cross_val_score(modelo_cross, X_train_pca, y_train, cv=kinf, scoring='r2').mean()\n",
        "r2_cv_10_fold = cross_val_score(modelo_cross, X_train_pca, y_train, cv=ksup, scoring='r2').mean()\n",
        "score_cv_10_fold = cross_val_score(modelo_cross, X_train_pca, y_train, cv=ksup, scoring='r2').mean()\n",
        "\n",
        "# Imprimir los resultados\n",
        "print(f'k-fold cross validation k={kinf}')\n",
        "print(f'Error Cuadrático Medio (MSE): {mse_cv_5_fold.round(3)}')\n",
        "print(f'Coeficiente de Determinación (R^2): {r2_cv_5_fold.round(3)}')\n",
        "print(f'Score del modelo: {score_cv_5_fold.round(3)}')\n",
        "\n",
        "print('')\n",
        "print(f'k-fold cross validation k={ksup}')\n",
        "print(f'Error Cuadrático Medio (MSE): {mse_cv_10_fold.round(3)}')\n",
        "print(f'Coeficiente de Determinación (R^2): {r2_cv_10_fold.round(3)}')\n",
        "print(f'Score del modelo: {score_cv_10_fold.round(3)}')\n"
      ],
      "metadata": {
        "colab": {
          "base_uri": "https://localhost:8080/"
        },
        "id": "s3ePnsvPiXHF",
        "outputId": "e4bd0d20-1f64-4ea9-8e85-e9aa5fadc86b"
      },
      "execution_count": 67,
      "outputs": [
        {
          "output_type": "stream",
          "name": "stdout",
          "text": [
            "k-fold cross validation k=3\n",
            "Error Cuadrático Medio (MSE): 59635.155\n",
            "Coeficiente de Determinación (R^2): 0.778\n",
            "Score del modelo: 0.778\n",
            "\n",
            "k-fold cross validation k=10\n",
            "Error Cuadrático Medio (MSE): 60077.395\n",
            "Coeficiente de Determinación (R^2): 0.766\n",
            "Score del modelo: 0.766\n"
          ]
        }
      ]
    },
    {
      "cell_type": "markdown",
      "source": [
        "# Conclusiones mejoras de modelos con K-fold cross validation"
      ],
      "metadata": {
        "id": "JuMVjhRvruuy"
      }
    },
    {
      "cell_type": "markdown",
      "source": [
        "######Usando validación cruzada de tipo k-fold con k=5 y k=10 y sobre un modelo al que apliqué PCA con componentes n=1, n=2 y n=3 (e incluso n=80) encontré la mayoría de los resultados de evaluación del modelo exactamente iguales, lo cual no me permite sacar una conclusión y me deja la duda de cual es el motivo de que no haya diferencias ante modelos tan diferentes. Incluso probé con k=2 a K=100 y me dió lo mismo. Decidí probar con un modelo entrenado con un split tipico 70/30 train/test y el resultado fué similar sin diferencias. Finalmente ya resignado decidí probar un modelo entrenado con un split extremo y nada recomendado 2% train/ 98% test y recién en ese caso pude encontrar las diferencias marcadas mas arriba ejemplo score 0.778 en el k=5 y score 0.766 en el k=10. Consulto con los que saben, mi tutora en este caso, para ver que puede estar sucediendo."
      ],
      "metadata": {
        "id": "atb-m3l0p4Lk"
      }
    },
    {
      "cell_type": "markdown",
      "source": [
        "# **FIN DEL DESAFÍO**"
      ],
      "metadata": {
        "id": "SO9sfWxANeED"
      }
    }
  ],
  "metadata": {
    "colab": {
      "provenance": [],
      "collapsed_sections": [
        "y732na-EQb3U",
        "YCCY-hbXAu_k"
      ],
      "authorship_tag": "ABX9TyO2vLzswOx1rfJHks9/4XI2",
      "include_colab_link": true
    },
    "kernelspec": {
      "display_name": "Python 3",
      "name": "python3"
    },
    "language_info": {
      "name": "python"
    }
  },
  "nbformat": 4,
  "nbformat_minor": 0
}